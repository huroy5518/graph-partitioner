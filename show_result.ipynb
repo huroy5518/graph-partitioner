{
 "cells": [
  {
   "cell_type": "code",
   "execution_count": 32,
   "metadata": {},
   "outputs": [],
   "source": [
    "import networkx as nx\n",
    "from networkx.algorithms.community import kernighan_lin_bisection\n",
    "from GraphPartitioner import *\n",
    "import matplotlib.pyplot as plt"
   ]
  },
  {
   "cell_type": "code",
   "execution_count": 33,
   "metadata": {},
   "outputs": [
    {
     "data": {
      "text/plain": [
       "<matplotlib.image.AxesImage at 0x7ff0116db1f0>"
      ]
     },
     "execution_count": 33,
     "metadata": {},
     "output_type": "execute_result"
    },
    {
     "data": {
      "image/png": "[encoded data removed]",
      "text/plain": [
       "<Figure size 432x288 with 1 Axes>"
      ]
     },
     "metadata": {
      "needs_background": "light"
     },
     "output_type": "display_data"
    }
   ],
   "source": [
    "graph = nx.Graph()\n",
    "\n",
    "n = 25\n",
    "\n",
    "edges = []\n",
    "for i in range(n):\n",
    "    for j in range(n):\n",
    "        if i > 0:\n",
    "            edges.append(((i - 1) * n + j, ((i) * n + j)))\n",
    "        if j > 0:\n",
    "            edges.append(((i) * n + j - 1, (i) * n + j))\n",
    "\n",
    "\n",
    "graph.add_edges_from(edges)\n",
    "l = list(kernighan_lin_bisection(graph))\n",
    "\n",
    "red = [255, 67 ,67]\n",
    "green = [67, 255, 67]\n",
    "blue = [67, 67, 255]\n",
    "v = [[[0, 0, 0] for i in range(n)] for j in range(n)]\n",
    "for i in l[0]:\n",
    "    v[i  // n][i % n] = red\n",
    "for i in l[1]:\n",
    "    v[i // n][i % n] = green\n",
    "\n",
    "plt.imshow(v)"
   ]
  },
  {
   "cell_type": "code",
   "execution_count": 34,
   "metadata": {},
   "outputs": [
    {
     "data": {
      "text/plain": [
       "<matplotlib.image.AxesImage at 0x7ff0115a5ea0>"
      ]
     },
     "execution_count": 34,
     "metadata": {},
     "output_type": "execute_result"
    },
    {
     "data": {
      "image/png": "[encoded data removed]",
      "text/plain": [
       "<Figure size 432x288 with 1 Axes>"
      ]
     },
     "metadata": {
      "needs_background": "light"
     },
     "output_type": "display_data"
    }
   ],
   "source": [
    "import numpy as np\n",
    "graph = Graph()\n",
    "nx, ny = (25, 25)\n",
    "x = np.linspace(0, 1, nx)\n",
    "y = np.linspace(0, 1, ny)\n",
    "\n",
    "xv, yv = np.meshgrid(x, y)\n",
    "X = Graph(xv, yv)\n",
    "part = LDGPartitioner(X)\n",
    "\n",
    "p = part.part_numpy_mesh(2)\n",
    "v = [[[0, 0, 0] for i in range(n)] for j in range(n)]\n",
    "for i in range(len(p)):\n",
    "    for j in range(len(p[i])):\n",
    "        if p[i][j] == 0:\n",
    "            v[i][j] = red\n",
    "        else:\n",
    "            v[i][j] = green\n",
    "plt.imshow(v)"
   ]
  },
  {
   "cell_type": "code",
   "execution_count": 41,
   "metadata": {},
   "outputs": [
    {
     "data": {
      "text/plain": [
       "<matplotlib.image.AxesImage at 0x7ff01173e050>"
      ]
     },
     "execution_count": 41,
     "metadata": {},
     "output_type": "execute_result"
    },
    {
     "data": {
      "image/png": "[encoded data removed]",
      "text/plain": [
       "<Figure size 432x288 with 1 Axes>"
      ]
     },
     "metadata": {
      "needs_background": "light"
     },
     "output_type": "display_data"
    }
   ],
   "source": [
    "import numpy as np\n",
    "graph = Graph()\n",
    "nx, ny = (25, 25)\n",
    "x = np.linspace(0, 1, nx)\n",
    "y = np.linspace(0, 1, ny)\n",
    "\n",
    "xv, yv = np.meshgrid(x, y)\n",
    "X = Graph(xv, yv)\n",
    "part = KernighanLinPartitioner(X)\n",
    "\n",
    "p = part.part_numpy_mesh(2)\n",
    "v = [[[0, 0, 0] for i in range(n)] for j in range(n)]\n",
    "for i in range(len(p)):\n",
    "    for j in range(len(p[i])):\n",
    "        if p[i][j] == 0:\n",
    "            v[i][j] = red\n",
    "        else:\n",
    "            v[i][j] = green\n",
    "plt.imshow(v)"
   ]
  },
  {
   "cell_type": "code",
   "execution_count": 40,
   "metadata": {},
   "outputs": [
    {
     "data": {
      "text/plain": [
       "<matplotlib.image.AxesImage at 0x7ff01197b640>"
      ]
     },
     "execution_count": 40,
     "metadata": {},
     "output_type": "execute_result"
    },
    {
     "data": {
      "image/png": "[encoded data removed]",
      "text/plain": [
       "<Figure size 432x288 with 1 Axes>"
      ]
     },
     "metadata": {
      "needs_background": "light"
     },
     "output_type": "display_data"
    }
   ],
   "source": [
    "import numpy as np\n",
    "graph = Graph()\n",
    "nx, ny = (25, 25)\n",
    "x = np.linspace(0, 1, nx)\n",
    "y = np.linspace(0, 1, ny)\n",
    "\n",
    "xv, yv = np.meshgrid(x, y)\n",
    "X = Graph(xv, yv)\n",
    "part = KernighanLinPartitionerFast(X)\n",
    "\n",
    "p = part.part_numpy_mesh(2)\n",
    "v = [[[0, 0, 0] for i in range(n)] for j in range(n)]\n",
    "for i in range(len(p)):\n",
    "    for j in range(len(p[i])):\n",
    "        if p[i][j] == 0:\n",
    "            v[i][j] = red\n",
    "        else:\n",
    "            v[i][j] = green\n",
    "plt.imshow(v)"
   ]
  },
  {
   "cell_type": "code",
   "execution_count": 49,
   "metadata": {},
   "outputs": [
    {
     "data": {
      "text/plain": [
       "<matplotlib.image.AxesImage at 0x7ff010f5d7e0>"
      ]
     },
     "execution_count": 49,
     "metadata": {},
     "output_type": "execute_result"
    },
    {
     "data": {
      "image/png": "[encoded data removed]",
      "text/plain": [
       "<Figure size 432x288 with 1 Axes>"
      ]
     },
     "metadata": {
      "needs_background": "light"
     },
     "output_type": "display_data"
    }
   ],
   "source": [
    "import numpy as np\n",
    "graph = Graph()\n",
    "nx, ny = (25, 25)\n",
    "x = np.linspace(0, 1, nx)\n",
    "y = np.linspace(0, 1, ny)\n",
    "\n",
    "xv, yv = np.meshgrid(x, y)\n",
    "X = Graph(xv, yv)\n",
    "part = LDGPartitioner(X)\n",
    "\n",
    "p = part.part_numpy_mesh(3)\n",
    "v = [[[0, 0, 0] for i in range(n)] for j in range(n)]\n",
    "for i in range(len(p)):\n",
    "    for j in range(len(p[i])):\n",
    "        if p[i][j] == 0:\n",
    "            v[i][j] = red\n",
    "        elif p[i][j] == 1:\n",
    "            v[i][j] = green\n",
    "        else:\n",
    "            v[i][j] = blue\n",
    "plt.imshow(v)"
   ]
  },
  {
   "cell_type": "code",
   "execution_count": 72,
   "metadata": {},
   "outputs": [
    {
     "data": {
      "text/plain": [
       "<matplotlib.image.AxesImage at 0x7ff0106f1c90>"
      ]
     },
     "execution_count": 72,
     "metadata": {},
     "output_type": "execute_result"
    },
    {
     "data": {
      "image/png": "[encoded data removed]",
      "text/plain": [
       "<Figure size 432x288 with 1 Axes>"
      ]
     },
     "metadata": {
      "needs_background": "light"
     },
     "output_type": "display_data"
    }
   ],
   "source": [
    "import numpy as np\n",
    "graph = Graph()\n",
    "nx, ny = (25, 25)\n",
    "x = np.linspace(0, 1, nx)\n",
    "y = np.linspace(0, 1, ny)\n",
    "\n",
    "xv, yv = np.meshgrid(x, y)\n",
    "X = Graph(xv, yv)\n",
    "part = KernighanLinPartitioner(X)\n",
    "\n",
    "p = part.part_numpy_mesh(3)\n",
    "v = [[[0, 0, 0] for i in range(n)] for j in range(n)]\n",
    "for i in range(len(p)):\n",
    "    for j in range(len(p[i])):\n",
    "        if p[i][j] == 0:\n",
    "            v[i][j] = red\n",
    "        elif p[i][j] == 1:\n",
    "            v[i][j] = green\n",
    "        else:\n",
    "            v[i][j] = blue\n",
    "plt.imshow(v)"
   ]
  },
  {
   "cell_type": "code",
   "execution_count": 67,
   "metadata": {},
   "outputs": [
    {
     "data": {
      "text/plain": [
       "<matplotlib.image.AxesImage at 0x7ff0108d84f0>"
      ]
     },
     "execution_count": 67,
     "metadata": {},
     "output_type": "execute_result"
    },
    {
     "data": {
      "image/png": "[encoded data removed]",
      "text/plain": [
       "<Figure size 432x288 with 1 Axes>"
      ]
     },
     "metadata": {
      "needs_background": "light"
     },
     "output_type": "display_data"
    }
   ],
   "source": [
    "import numpy as np\n",
    "graph = Graph()\n",
    "nx, ny = (25, 25)\n",
    "x = np.linspace(0, 1, nx)\n",
    "y = np.linspace(0, 1, ny)\n",
    "\n",
    "xv, yv = np.meshgrid(x, y)\n",
    "X = Graph(xv, yv)\n",
    "part = KernighanLinPartitionerFast(X)\n",
    "\n",
    "p = part.part_numpy_mesh(3)\n",
    "v = [[[0, 0, 0] for i in range(n)] for j in range(n)]\n",
    "for i in range(len(p)):\n",
    "    for j in range(len(p[i])):\n",
    "        if p[i][j] == 0:\n",
    "            v[i][j] = red\n",
    "        elif p[i][j] == 1:\n",
    "            v[i][j] = green\n",
    "        else:\n",
    "            v[i][j] = blue\n",
    "plt.imshow(v)"
   ]
  }
 ],
 "metadata": {
  "kernelspec": {
   "display_name": "Python 3",
   "language": "python",
   "name": "python3"
  },
  "language_info": {
   "codemirror_mode": {
    "name": "ipython",
    "version": 3
   },
   "file_extension": ".py",
   "mimetype": "text/x-python",
   "name": "python",
   "nbconvert_exporter": "python",
   "pygments_lexer": "ipython3",
   "version": "3.10.6"
  },
  "orig_nbformat": 4
 },
 "nbformat": 4,
 "nbformat_minor": 2
}
